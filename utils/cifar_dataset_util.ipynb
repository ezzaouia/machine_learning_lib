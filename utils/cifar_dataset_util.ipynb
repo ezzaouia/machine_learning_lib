{
 "cells": [
  {
   "cell_type": "markdown",
   "metadata": {},
   "source": [
    "## Download CIFAR-10 dataset from url"
   ]
  },
  {
   "cell_type": "code",
   "execution_count": 25,
   "metadata": {
    "collapsed": false
   },
   "outputs": [],
   "source": [
    "# helper methods to download CIFAR-10 provided\n",
    "# by toronto.edu dataset & decompress it \n",
    "# --------------------------------------------\n",
    "\n",
    "import urllib\n",
    "import os\n",
    "import tarfile\n",
    "import time_util\n",
    "import cPickle as pickle\n",
    "import numpy as np\n",
    "\n",
    "# download CIFAR-10 file as tar.gz file\n",
    "# param: url url of the dataset\n",
    "# param: file_name \n",
    "def download_cifar10(url, file_name):\n",
    "    print \"star downloading CIFAR-10..tar.gz\"\n",
    "    urllib.urlretrieve(url, file_name)\n",
    "\n",
    "# Get the downloaded file and decompress it\n",
    "# param: path_of_file is the path of tar.gz file\n",
    "def decompress_save_cifar10(path_of_file, path_of_dataset_repo):\n",
    "    print \"star decompressing CIFAR-10..tar.gz\"\n",
    "    tar_gz_cifar = tarfile.open(path_of_file)\n",
    "    tar_gz_cifar.extractall(path_of_dataset_repo)\n",
    "    tar_gz_cifar.close() "
   ]
  },
  {
   "cell_type": "code",
   "execution_count": 9,
   "metadata": {
    "collapsed": false
   },
   "outputs": [],
   "source": [
    "# path & name of the file\n",
    "url = \"http://www.cs.toronto.edu/~kriz/cifar-10-python.tar.gz\"\n",
    "file_name = \"cifar-10-python.tar.gz\"\n",
    "path_of_dataset_repo = os.path.join(\"../\", \"datasets\")\n",
    "path_of_file = os.path.join(\"../\", \"datasets\", file_name)"
   ]
  },
  {
   "cell_type": "code",
   "execution_count": null,
   "metadata": {
    "collapsed": true
   },
   "outputs": [],
   "source": [
    "# download..\n",
    "_time = time_util.time_function(download_cifar10, url, path_of_file)\n",
    "print 'download_cifar10 took %f seconds' % _time"
   ]
  },
  {
   "cell_type": "code",
   "execution_count": 10,
   "metadata": {
    "collapsed": false
   },
   "outputs": [
    {
     "name": "stdout",
     "output_type": "stream",
     "text": [
      "star decompressing CIFAR-10..tar.gz\n",
      "decompress_save_cifar10 took 1.961078 seconds\n"
     ]
    }
   ],
   "source": [
    "# decompress..\n",
    "_time = time_util.time_function(decompress_save_cifar10, path_of_file, path_of_dataset_repo)\n",
    "print 'decompress_save_cifar10 took %f seconds' % _time"
   ]
  },
  {
   "cell_type": "code",
   "execution_count": 33,
   "metadata": {
    "collapsed": false
   },
   "outputs": [],
   "source": [
    "# load one batch file of CIFAR by name\n",
    "def load_cifar10_batch(batch_name):\n",
    "    with open(batch_name, 'rb') as f:\n",
    "        datadictionary = pickle.load(f)\n",
    "        images = datadictionary[\"data\"]\n",
    "        labels = datadictionary[\"labels\"]\n",
    "        \n",
    "        images = images.reshape(10000, 3, 32, 32).transpose(0,2,3,1).astype(\"float\")\n",
    "        labels = np.array(labels)\n",
    "        return images, labels"
   ]
  },
  {
   "cell_type": "code",
   "execution_count": 45,
   "metadata": {
    "collapsed": false
   },
   "outputs": [],
   "source": [
    "# load the entire CIFAR-10 dataset\n",
    "def load_all_cifar10(path_name):\n",
    "    imgs = []\n",
    "    lbls = []\n",
    "    for f in [x for x in os.listdir(path_name) if x.startswith(\"data_batch_\")]:\n",
    "        X, Y = load_cifar10_batch(os.path.join(path_name, f))\n",
    "        imgs.append(X)\n",
    "        lbls.append(Y)\n",
    "    Xtr = np.concatenate(imgs)\n",
    "    Ytr = np.concatenate(lbls)\n",
    "    del X, Y\n",
    "    Xte, Yte = load_cifar10_batch(os.path.join(path_name, 'test_batch'))\n",
    "    \n",
    "    return Xtr, Ytr, Xte, Yte"
   ]
  }
 ],
 "metadata": {
  "kernelspec": {
   "display_name": "Python 2",
   "language": "python",
   "name": "python2"
  },
  "language_info": {
   "codemirror_mode": {
    "name": "ipython",
    "version": 2
   },
   "file_extension": ".py",
   "mimetype": "text/x-python",
   "name": "python",
   "nbconvert_exporter": "python",
   "pygments_lexer": "ipython2",
   "version": "2.7.11"
  }
 },
 "nbformat": 4,
 "nbformat_minor": 0
}

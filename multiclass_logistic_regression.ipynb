{
 "cells": [
  {
   "cell_type": "markdown",
   "metadata": {},
   "source": [
    "##### MultiClass Logistic Regression Classifier\n",
    "\n",
    "- Suppervised machine learning algorithm, it can be applied to binary or multiclass classification problems\n",
    "- Also known as discriminative probalistic model, that is, it predict the probability of occurence of an event\n",
    "- It is based on the logistic function also known as sigmoid\n",
    "- Logistic Regresion can be considered as a Linear classifier"
   ]
  },
  {
   "cell_type": "code",
   "execution_count": 42,
   "metadata": {
    "collapsed": false
   },
   "outputs": [],
   "source": [
    "from IPython.display import display, Math, Latex\n",
    "import matplotlib\n",
    "import numpy as np\n",
    "import matplotlib.pyplot as plt\n",
    "import math\n",
    "%matplotlib inline \n",
    "\n",
    "#  Logistic function\n",
    "def g(z):\n",
    "    return 1.0 / (1.0 + np.exp(-1.0 * z))"
   ]
  },
  {
   "cell_type": "markdown",
   "metadata": {},
   "source": [
    "$$g(z) = \\frac{1}{1 + e^{-z}}$$"
   ]
  },
  {
   "cell_type": "code",
   "execution_count": 31,
   "metadata": {
    "collapsed": false
   },
   "outputs": [
    {
     "data": {
      "image/png": "[encoded data removed]",
      "text/plain": [
       "<matplotlib.figure.Figure at 0x10604cc50>"
      ]
     },
     "metadata": {},
     "output_type": "display_data"
    }
   ],
   "source": [
    "z = np.linspace(-6, 6, 500)\n",
    "plt.plot(z, g(z) )\n",
    "plt.title('Sigmoid')\n",
    "plt.show()"
   ]
  },
  {
   "cell_type": "markdown",
   "metadata": {},
   "source": [
    "- The logistic regression is based on a linear classification model, one of the simpleste classifier model.\n",
    "- In a such model we define a score function like follow: \n",
    "\n",
    "$$f(x_i, W, b) = W.x_i + b$$\n",
    "\n",
    "- Where $x_i$ is the input verctor which correspond to one sample in our data\n",
    "- $W$ is the weight matrix and $b$ is the bias as it influence the output scores and are both the **parameters** of the function\n",
    "- For instance, if the input samples has a dimension $D$ and $K$ is the number of classes, we can say that $x_i$ is a vector of shape $[Dx1]$, $W$ is of size $[KxD]$ and $b$ is of shape $[Kx1]$\n",
    "- Each input in the data is labled so, we have $(x_i, y_i)$ which is fixed we dont have any control on this.\n",
    "- but we have the control on $W$ and $b$ and our gaol is to set these **parameters** in a such fashion that the computed scores match the truth labels across our training data.\n",
    "- One more note with the score function $f$ is that the $W.x_i$ is in fact evaluating $K$ classifiers at the same time one for each class\n",
    "- the classifier will predict the correct class as the index of the class which has the highest score of the score output of the function $f$ defined above"
   ]
  },
  {
   "cell_type": "code",
   "execution_count": null,
   "metadata": {
    "collapsed": true
   },
   "outputs": [],
   "source": []
  },
  {
   "cell_type": "code",
   "execution_count": null,
   "metadata": {
    "collapsed": true
   },
   "outputs": [],
   "source": []
  },
  {
   "cell_type": "code",
   "execution_count": null,
   "metadata": {
    "collapsed": true
   },
   "outputs": [],
   "source": []
  }
 ],
 "metadata": {
  "kernelspec": {
   "display_name": "Python 2",
   "language": "python",
   "name": "python2"
  },
  "language_info": {
   "codemirror_mode": {
    "name": "ipython",
    "version": 2
   },
   "file_extension": ".py",
   "mimetype": "text/x-python",
   "name": "python",
   "nbconvert_exporter": "python",
   "pygments_lexer": "ipython2",
   "version": "2.7.11"
  }
 },
 "nbformat": 4,
 "nbformat_minor": 0
}
